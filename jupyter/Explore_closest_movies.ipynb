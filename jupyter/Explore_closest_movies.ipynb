{
 "cells": [
  {
   "cell_type": "code",
   "execution_count": 1,
   "metadata": {
    "collapsed": true
   },
   "outputs": [],
   "source": [
    "import operator\n",
    "import os\n",
    "import sys\n",
    "import cPickle as pickle\n",
    "\n",
    "import ipywidgets as widgets #new version of IPython.htlm\n",
    "from ipywidgets import fixed\n",
    "\n",
    "module_path = os.path.abspath(os.path.join('../code'))\n",
    "if module_path not in sys.path:\n",
    "    sys.path.append(module_path)\n",
    "    \n",
    "from plotline_utilities import make_title_dictionary"
   ]
  },
  {
   "cell_type": "code",
   "execution_count": 15,
   "metadata": {
    "collapsed": true
   },
   "outputs": [],
   "source": [
    "#download dictionaries to switch from filename to nice title:\n",
    "filename_to_title, title_to_filename = make_title_dictionary()\n",
    "\n",
    "#widget for the selection of files:\n",
    "path_to_file = '../data/emotions/arrays'\n",
    "files = os.listdir(path_to_file)\n",
    "legit_files = [filename[:-4] for filename in files if filename[-3:]=='npy']\n",
    "legit_titles = [filename_to_title[filename] for filename in legit_files]\n",
    "\n",
    "select_widget = widgets.Select()\n",
    "select_widget.options = legit_titles\n",
    "\n",
    "#get the pickled dictionary with the distance\n",
    "distance_dictionary = pickle.load(open('../data/distances.pkl', 'rb'))"
   ]
  },
  {
   "cell_type": "code",
   "execution_count": 18,
   "metadata": {
    "collapsed": true
   },
   "outputs": [],
   "source": [
    "def f_interactive(title, distance_dictionary, filename_to_title, title_to_filename):\n",
    "    '''\n",
    "    parameters:\n",
    "    -----------\n",
    "    filename: STR, the file that is studied\n",
    "    distance_dictionary: DICT, obtained in pickled form after running the dtw_script\n",
    "    filename_to_title: DICT, switch easily from filename to properly printed out title\n",
    "    '''\n",
    "    filename = title_to_filename[title]\n",
    "    #get relevant entry:\n",
    "    entry = distance_dictionary[filename]\n",
    "    #sort to select top 10\n",
    "    top_10 = sorted(entry.items(), key=operator.itemgetter(1))[:10]\n",
    "    #as list of tuples (filename, distance)\n",
    "    for filename, distance in top_10:\n",
    "        print filename_to_title[filename]+ '('+ str(round(distance,1))+')'"
   ]
  },
  {
   "cell_type": "code",
   "execution_count": 19,
   "metadata": {
    "collapsed": false
   },
   "outputs": [
    {
     "name": "stdout",
     "output_type": "stream",
     "text": [
      "Barton Fink(0.9)\n",
      "Bachelor Party, The(1.0)\n",
      "Good Will Hunting(1.0)\n",
      "Misery(1.0)\n",
      "Scarface(1.0)\n",
      "Rust and Bone(1.0)\n",
      "Bottle Rocket(1.0)\n",
      "Sweet Hereafter, The(1.0)\n",
      "I, Robot(1.1)\n",
      "Sideways(1.1)\n"
     ]
    }
   ],
   "source": [
    "widgets.interactive(f_interactive,\n",
    "                    title=select_widget,\n",
    "                    distance_dictionary=fixed(distance_dictionary),\n",
    "                    filename_to_title=fixed(filename_to_title),\n",
    "                    title_to_filename=fixed(title_to_filename))"
   ]
  },
  {
   "cell_type": "code",
   "execution_count": null,
   "metadata": {
    "collapsed": true
   },
   "outputs": [],
   "source": []
  }
 ],
 "metadata": {
  "kernelspec": {
   "display_name": "Python 2",
   "language": "python",
   "name": "python2"
  },
  "language_info": {
   "codemirror_mode": {
    "name": "ipython",
    "version": 2
   },
   "file_extension": ".py",
   "mimetype": "text/x-python",
   "name": "python",
   "nbconvert_exporter": "python",
   "pygments_lexer": "ipython2",
   "version": "2.7.11"
  }
 },
 "nbformat": 4,
 "nbformat_minor": 0
}
