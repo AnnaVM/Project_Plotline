{
 "cells": [
  {
   "cell_type": "markdown",
   "metadata": {},
   "source": [
    "#### Usage\n",
    "\n",
    "This notebook can be used to select a movie from the list and see the 10 movies with the most similar plotlines for all emotions. A measure of similarity, in arbitrary units, is given in parenthesis (0: smallest distance, matching plotlines).\n",
    "\n",
    "> In order to run, you must have executed i) scraping_script.py, ii) emotion_script.py and finally iii) dtw_script.py successfully.\n",
    "More specifically, you will need:\n",
    "* the emotion counts stored in the .npy files in *data/emotions/arrays*\n",
    "* the movie information in *data/scraping/successful_files.csv* and\n",
    "* the pickled dictionary containing distances *data/distances.pkl*"
   ]
  },
  {
   "cell_type": "markdown",
   "metadata": {},
   "source": [
    "### Import modules"
   ]
  },
  {
   "cell_type": "code",
   "execution_count": 1,
   "metadata": {
    "collapsed": true
   },
   "outputs": [],
   "source": [
    "import operator\n",
    "import os\n",
    "import sys\n",
    "import cPickle as pickle\n",
    "\n",
    "import ipywidgets as widgets #new version of IPython.htlm\n",
    "from ipywidgets import fixed\n",
    "\n",
    "module_path = os.path.abspath(os.path.join('../code'))\n",
    "if module_path not in sys.path:\n",
    "    sys.path.append(module_path)\n",
    "    \n",
    "from plotline_utilities import make_title_dictionary"
   ]
  },
  {
   "cell_type": "markdown",
   "metadata": {},
   "source": [
    "### Preparing data"
   ]
  },
  {
   "cell_type": "code",
   "execution_count": 15,
   "metadata": {
    "collapsed": true
   },
   "outputs": [],
   "source": [
    "#download dictionaries to switch from filename to nice title:\n",
    "filename_to_title, title_to_filename = make_title_dictionary()\n",
    "\n",
    "#widget for the selection of files:\n",
    "path_to_file = '../data/emotions/arrays'\n",
    "files = os.listdir(path_to_file)\n",
    "legit_files = [filename[:-4] for filename in files if filename[-3:]=='npy']\n",
    "legit_titles = [filename_to_title[filename] for filename in legit_files]\n",
    "\n",
    "select_widget = widgets.Select()\n",
    "select_widget.options = legit_titles\n",
    "\n",
    "#get the pickled dictionary with the distance\n",
    "distance_dictionary = pickle.load(open('../data/distances.pkl', 'rb'))"
   ]
  },
  {
   "cell_type": "code",
   "execution_count": 18,
   "metadata": {
    "collapsed": true
   },
   "outputs": [],
   "source": [
    "def f_interactive(title, distance_dictionary, filename_to_title, title_to_filename):\n",
    "    '''\n",
    "    parameters:\n",
    "    -----------\n",
    "    title: STR, the file that is studied\n",
    "    distance_dictionary: DICT, obtained in pickled form after running the dtw_script\n",
    "    filename_to_title and title_to_filename: DICTs, switch easily from filename to properly printed out title\n",
    "    '''\n",
    "    filename = title_to_filename[title]\n",
    "    #get relevant entry:\n",
    "    entry = distance_dictionary[filename]\n",
    "    #sort to select top 10\n",
    "    top_10 = sorted(entry.items(), key=operator.itemgetter(1))[:10]\n",
    "    #as list of tuples (filename, distance)\n",
    "    for filename, distance in top_10:\n",
    "        print filename_to_title[filename]+ '('+ str(round(distance,1))+')'"
   ]
  },
  {
   "cell_type": "markdown",
   "metadata": {},
   "source": [
    "### Exploring data"
   ]
  },
  {
   "cell_type": "code",
   "execution_count": 19,
   "metadata": {
    "collapsed": false
   },
   "outputs": [
    {
     "name": "stdout",
     "output_type": "stream",
     "text": [
      "Chasing Amy(0.7)\n",
      "Life As A House(0.8)\n",
      "Island, The(0.9)\n",
      "Burlesque(0.9)\n",
      "Big White, The(0.9)\n",
      "Scarface(0.9)\n",
      "Final Destination(1.0)\n",
      "Enemy of the State(1.0)\n",
      "Sunset Blvd.(1.0)\n",
      "Confidence(1.0)\n"
     ]
    }
   ],
   "source": [
    "widgets.interactive(f_interactive,\n",
    "                    title=select_widget,\n",
    "                    distance_dictionary=fixed(distance_dictionary),\n",
    "                    filename_to_title=fixed(filename_to_title),\n",
    "                    title_to_filename=fixed(title_to_filename))"
   ]
  },
  {
   "cell_type": "code",
   "execution_count": null,
   "metadata": {
    "collapsed": true
   },
   "outputs": [],
   "source": []
  }
 ],
 "metadata": {
  "kernelspec": {
   "display_name": "Python 2",
   "language": "python",
   "name": "python2"
  },
  "language_info": {
   "codemirror_mode": {
    "name": "ipython",
    "version": 2
   },
   "file_extension": ".py",
   "mimetype": "text/x-python",
   "name": "python",
   "nbconvert_exporter": "python",
   "pygments_lexer": "ipython2",
   "version": "2.7.11"
  }
 },
 "nbformat": 4,
 "nbformat_minor": 0
}
