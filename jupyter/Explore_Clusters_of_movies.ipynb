{
 "cells": [
  {
   "cell_type": "markdown",
   "metadata": {},
   "source": [
    "#### Usage\n",
    "\n",
    "This notebook can be used to explore the movies in the same cluster after K medoid clustering algorithm is applied. In particular, this notebook allows the user to explore the stability of the clusters, ie determine the list of movies that remain in the same clusters even if the clustering is run several times.\n",
    "\n",
    "> In order to run, you must have executed i) scraping_script.py, ii) emotion_script.py and finally iii) dtw_script.py successfully.\n",
    "More specifically, you will need:\n",
    "* the emotion counts stored in the .npy files in *data/emotions/arrays*\n",
    "* the movie information in *data/scraping/successful_files.csv* and\n",
    "* the pickled dictionary containing distances *data/distances.pkl*"
   ]
  },
  {
   "cell_type": "code",
   "execution_count": null,
   "metadata": {
    "collapsed": false
   },
   "outputs": [],
   "source": [
    "import os\n",
    "import sys\n",
    "import cPickle as pickle\n",
    "\n",
    "module_path = os.path.abspath(os.path.join('../code'))\n",
    "if module_path not in sys.path:\n",
    "    sys.path.append(module_path)\n",
    "\n",
    "from medoids import investigate_stability, make_distance_array"
   ]
  },
  {
   "cell_type": "code",
   "execution_count": null,
   "metadata": {
    "collapsed": true
   },
   "outputs": [],
   "source": [
    "#getting distances\n",
    "with open('../data/distances.pkl', 'r') as f:\n",
    "    distance_dictionary = pickle.load(f)\n",
    "    \n",
    "movies, distances = make_distance_array(distance_dictionary)"
   ]
  },
  {
   "cell_type": "code",
   "execution_count": null,
   "metadata": {
    "collapsed": false
   },
   "outputs": [],
   "source": [
    "d_inter = investigate_stability(movies, distances, 10, 3)"
   ]
  },
  {
   "cell_type": "code",
   "execution_count": null,
   "metadata": {
    "collapsed": false
   },
   "outputs": [],
   "source": [
    "with open('../data/3clusters.pkl', 'w') as f:\n",
    "    pickle.dump(d_inter, f)"
   ]
  },
  {
   "cell_type": "markdown",
   "metadata": {},
   "source": [
    "#### Exploring movies in the clusters"
   ]
  },
  {
   "cell_type": "code",
   "execution_count": null,
   "metadata": {
    "collapsed": false
   },
   "outputs": [],
   "source": [
    "d_inter[0]"
   ]
  },
  {
   "cell_type": "code",
   "execution_count": null,
   "metadata": {
    "collapsed": true
   },
   "outputs": [],
   "source": [
    "d_inter[1]"
   ]
  },
  {
   "cell_type": "code",
   "execution_count": null,
   "metadata": {
    "collapsed": true
   },
   "outputs": [],
   "source": [
    "d_inter[2]"
   ]
  }
 ],
 "metadata": {
  "kernelspec": {
   "display_name": "Python 2",
   "language": "python",
   "name": "python2"
  },
  "language_info": {
   "codemirror_mode": {
    "name": "ipython",
    "version": 2
   },
   "file_extension": ".py",
   "mimetype": "text/x-python",
   "name": "python",
   "nbconvert_exporter": "python",
   "pygments_lexer": "ipython2",
   "version": "2.7.11"
  }
 },
 "nbformat": 4,
 "nbformat_minor": 0
}
